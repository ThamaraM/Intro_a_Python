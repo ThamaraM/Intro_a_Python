{
 "cells": [
  {
   "cell_type": "markdown",
   "metadata": {},
   "source": [
    "# <h1><center><font color=red>Introducción a Python, cuaderno de notas</font> </center></h1>"
   ]
  },
  {
   "cell_type": "markdown",
   "metadata": {},
   "source": [
    "Bienvenidos y bienvenidas,\n",
    "\n",
    "\n",
    "Este es el cuaderno de ejercicios donde podremos redactar notas respecto a cada código y prácticar con los ejercicos planteados por la profesora.\n",
    "\n",
    "Espero sea de mucha utilidad y facilite el acercamiento a las bases de este lenguaje de programación."
   ]
  },
  {
   "cell_type": "markdown",
   "metadata": {},
   "source": [
    "                                                                                                                       "
   ]
  },
  {
   "cell_type": "markdown",
   "metadata": {},
   "source": [
    "## <font color=blue>Hola Mundo</font> "
   ]
  },
  {
   "cell_type": "markdown",
   "metadata": {},
   "source": [
    "Así que, nuestro primer \"Hola Mundo\", en Python, se vería de la siguiente forma:"
   ]
  },
  {
   "cell_type": "code",
   "execution_count": null,
   "metadata": {
    "scrolled": true
   },
   "outputs": [],
   "source": [
    "print('Hola Mundo')"
   ]
  },
  {
   "cell_type": "markdown",
   "metadata": {},
   "source": [
    "## <font color=blue>Variables</font> "
   ]
  },
  {
   "cell_type": "markdown",
   "metadata": {},
   "source": [
    "Para el desarrollo de los ejercicios vamos a evaluar y desarrollar los ejercicios vistos a lo largo de la clase, empezando por variables.\n",
    "\n",
    "Como se mencionó, existen las variables tipo \"str\", \"int\" y \"float\""
   ]
  },
  {
   "cell_type": "markdown",
   "metadata": {},
   "source": [
    "Empezamos con \"str\":"
   ]
  },
  {
   "cell_type": "code",
   "execution_count": null,
   "metadata": {},
   "outputs": [],
   "source": [
    "Variable_str_1 = 'primer variable'\n",
    "Variable_str_2 = \"segunda variable\"\n",
    "\n",
    "#queremos comprobar nuestras variables\n",
    "print (Variable_str_1)\n",
    "print (Variable_str_2)"
   ]
  },
  {
   "cell_type": "markdown",
   "metadata": {},
   "source": [
    "Notemos que podemos escribir a lo largo del código comentarios los cuales ayuden a que otros programadores o nosotros mismos, entendamos las secciones que conforman un código y la funcionalidad de cada parte."
   ]
  },
  {
   "cell_type": "markdown",
   "metadata": {},
   "source": [
    "¿Qué pasa si queremos imprimir texto además de la información de nuestra variable?\n",
    "\n",
    "\n",
    "Como \"Variable_str_2\" es el nombre que le ponemos a la cajita con información y no la información por sí misma, es necesario ir agregando parte por parte dentro del print el texto y las variables que se quieren imprimir."
   ]
  },
  {
   "cell_type": "code",
   "execution_count": null,
   "metadata": {},
   "outputs": [],
   "source": [
    "print (\"La variable tipo str es: \" + Variable_str_1)"
   ]
  },
  {
   "cell_type": "markdown",
   "metadata": {},
   "source": [
    "Ahora, el tipo \"int\" o \"float\" se pueden ver a continuación:"
   ]
  },
  {
   "cell_type": "code",
   "execution_count": null,
   "metadata": {},
   "outputs": [],
   "source": [
    "Variable_int_1= int(1)\n",
    "Variable_float_1=float(1.0)\n",
    "\n",
    "print (Variable_int_1)\n",
    "print (Variable_float_1)"
   ]
  },
  {
   "cell_type": "markdown",
   "metadata": {},
   "source": [
    "Para concatenar texto y números en un print, es necesario hacer \"cast\" de la variable numérica, como se observa a continuación:"
   ]
  },
  {
   "cell_type": "code",
   "execution_count": null,
   "metadata": {},
   "outputs": [],
   "source": [
    "print ('El numero entero es: '+ str(Variable_int_1))\n",
    "print ('El numero en decimal es: '+str(Variable_float_1))"
   ]
  },
  {
   "cell_type": "markdown",
   "metadata": {},
   "source": [
    "#### <font color=green>Espacio para notas del estudiante</font>"
   ]
  },
  {
   "cell_type": "markdown",
   "metadata": {},
   "source": [
    "-\n",
    "\n",
    "-\n",
    "\n",
    "-"
   ]
  },
  {
   "cell_type": "markdown",
   "metadata": {},
   "source": [
    "## <font color=blue>Listas</font> \n",
    "\n",
    "\n",
    "También llamadas \"arrays\" se declaran entre paréntesis cuadrados \"[ ]\" como se puede observar a continuación:"
   ]
  },
  {
   "cell_type": "code",
   "execution_count": null,
   "metadata": {},
   "outputs": [],
   "source": [
    "Mascotas = ['gato', 'perro', 'tortuga']\n",
    "\n",
    "print(Mascotas)"
   ]
  },
  {
   "cell_type": "markdown",
   "metadata": {},
   "source": [
    "A continuación se pueden observar las diferentes formas en las que se puede tratar una lista:"
   ]
  },
  {
   "cell_type": "markdown",
   "metadata": {},
   "source": [
    "* Recorrer una lista:"
   ]
  },
  {
   "cell_type": "code",
   "execution_count": null,
   "metadata": {},
   "outputs": [],
   "source": [
    "for elemento in Mascotas:\n",
    "    print (elemento) #imprime cada uno de las mascotas de la lista\n"
   ]
  },
  {
   "cell_type": "markdown",
   "metadata": {},
   "source": [
    "* Agregar a una lista:"
   ]
  },
  {
   "cell_type": "code",
   "execution_count": null,
   "metadata": {},
   "outputs": [],
   "source": [
    "Mascotas.append('conejo')\n",
    "\n",
    "print (Mascotas)"
   ]
  },
  {
   "cell_type": "markdown",
   "metadata": {},
   "source": [
    "* Agregar una lista a una lista:"
   ]
  },
  {
   "cell_type": "code",
   "execution_count": null,
   "metadata": {},
   "outputs": [],
   "source": [
    "Mascotas_2=['pato', 'hamster']\n",
    "Mascotas.extend(Mascotas_2)\n",
    "\n",
    "print(Mascotas)"
   ]
  },
  {
   "cell_type": "markdown",
   "metadata": {},
   "source": [
    "* Remover un elemento:"
   ]
  },
  {
   "cell_type": "code",
   "execution_count": null,
   "metadata": {},
   "outputs": [],
   "source": [
    "Mascotas.remove('perro')\n",
    "\n",
    "print (Mascotas)"
   ]
  },
  {
   "cell_type": "markdown",
   "metadata": {},
   "source": [
    "* Índice específico de un elemento:"
   ]
  },
  {
   "cell_type": "code",
   "execution_count": null,
   "metadata": {},
   "outputs": [],
   "source": [
    "Indice=Mascotas.index('tortuga')\n",
    "\n",
    "print(Indice) #Aquí es 1 porque los índices de las listas empiezan desde 0\n"
   ]
  },
  {
   "cell_type": "markdown",
   "metadata": {},
   "source": [
    "* Contar las veces que se repite un elemento:"
   ]
  },
  {
   "cell_type": "code",
   "execution_count": null,
   "metadata": {},
   "outputs": [],
   "source": [
    "Cantidad_patos = Mascotas.count('pato')\n",
    "\n",
    "print(Cantidad_patos) #Aca es 1 porque no se repiten"
   ]
  },
  {
   "cell_type": "markdown",
   "metadata": {},
   "source": [
    "* Cantidad de elementos en la lista:"
   ]
  },
  {
   "cell_type": "code",
   "execution_count": null,
   "metadata": {},
   "outputs": [],
   "source": [
    "Cantidad_mascotas = len(Mascotas)\n",
    "print (Cantidad_mascotas)"
   ]
  },
  {
   "cell_type": "markdown",
   "metadata": {},
   "source": [
    "#### <font color=green>Espacio para notas del estudiante</font>"
   ]
  },
  {
   "cell_type": "markdown",
   "metadata": {},
   "source": [
    "-\n",
    "\n",
    "-\n",
    "\n",
    "-"
   ]
  },
  {
   "cell_type": "markdown",
   "metadata": {},
   "source": [
    "## <font color=blue>Operaciones matemáticas</font> "
   ]
  },
  {
   "cell_type": "markdown",
   "metadata": {},
   "source": [
    "#### Operaciones básicas:"
   ]
  },
  {
   "cell_type": "markdown",
   "metadata": {},
   "source": [
    "* Suma"
   ]
  },
  {
   "cell_type": "code",
   "execution_count": null,
   "metadata": {},
   "outputs": [],
   "source": [
    "3+8"
   ]
  },
  {
   "cell_type": "markdown",
   "metadata": {},
   "source": [
    "* Resta"
   ]
  },
  {
   "cell_type": "code",
   "execution_count": null,
   "metadata": {},
   "outputs": [],
   "source": [
    "3-6"
   ]
  },
  {
   "cell_type": "markdown",
   "metadata": {},
   "source": [
    "* División"
   ]
  },
  {
   "cell_type": "code",
   "execution_count": null,
   "metadata": {},
   "outputs": [],
   "source": [
    "15/3"
   ]
  },
  {
   "cell_type": "markdown",
   "metadata": {},
   "source": [
    "* Multiplicación"
   ]
  },
  {
   "cell_type": "code",
   "execution_count": null,
   "metadata": {},
   "outputs": [],
   "source": [
    "5*2"
   ]
  },
  {
   "cell_type": "markdown",
   "metadata": {},
   "source": [
    "Combinando operaciones:"
   ]
  },
  {
   "cell_type": "code",
   "execution_count": null,
   "metadata": {},
   "outputs": [],
   "source": [
    "4-8/2+6*3"
   ]
  },
  {
   "cell_type": "markdown",
   "metadata": {},
   "source": [
    "Es importante tener en cuenta que para resolver este tipo de ecuaciones se sigue la convención de resolución de operaciones matemáticas."
   ]
  },
  {
   "cell_type": "markdown",
   "metadata": {},
   "source": [
    "#### Operaciones más avanzadas:"
   ]
  },
  {
   "cell_type": "markdown",
   "metadata": {},
   "source": [
    "* Potencias"
   ]
  },
  {
   "cell_type": "code",
   "execution_count": null,
   "metadata": {},
   "outputs": [],
   "source": [
    "#Utilizando ** \n",
    "\n",
    "5**2"
   ]
  },
  {
   "cell_type": "code",
   "execution_count": null,
   "metadata": {},
   "outputs": [],
   "source": [
    "#Utilizando pow(x,y)\n",
    "\n",
    "pow(5, 2)"
   ]
  },
  {
   "cell_type": "markdown",
   "metadata": {},
   "source": [
    "* Raíces"
   ]
  },
  {
   "cell_type": "code",
   "execution_count": null,
   "metadata": {},
   "outputs": [],
   "source": [
    "import math\n",
    "\n",
    "math.sqrt(20)"
   ]
  },
  {
   "cell_type": "markdown",
   "metadata": {},
   "source": [
    "* Valor Absoluto"
   ]
  },
  {
   "cell_type": "code",
   "execution_count": null,
   "metadata": {},
   "outputs": [],
   "source": [
    "abs(-40)"
   ]
  },
  {
   "cell_type": "markdown",
   "metadata": {},
   "source": [
    "#### <font color=green>Espacio para notas del estudiante</font>"
   ]
  },
  {
   "cell_type": "markdown",
   "metadata": {},
   "source": [
    "-\n",
    "\n",
    "-\n",
    "\n",
    "-"
   ]
  },
  {
   "cell_type": "markdown",
   "metadata": {},
   "source": [
    "## <font color=blue>Ciclos</font> "
   ]
  },
  {
   "cell_type": "markdown",
   "metadata": {},
   "source": [
    "### Ciclos for:"
   ]
  },
  {
   "cell_type": "markdown",
   "metadata": {},
   "source": [
    "* Utilizando rangos:"
   ]
  },
  {
   "cell_type": "code",
   "execution_count": null,
   "metadata": {},
   "outputs": [],
   "source": [
    "for i in range(1, 10, 2):\n",
    "    print (i)\n"
   ]
  },
  {
   "cell_type": "markdown",
   "metadata": {},
   "source": [
    "* Utilizando listas:"
   ]
  },
  {
   "cell_type": "code",
   "execution_count": null,
   "metadata": {},
   "outputs": [],
   "source": [
    "Lista_supermercado = ['arroz','frijoles','tortillas','pollo','lechuga',]\n",
    "\n",
    "for abarrote in Lista_supermercado:\n",
    "    print (abarrote)"
   ]
  },
  {
   "cell_type": "markdown",
   "metadata": {},
   "source": [
    "### Ciclos while:"
   ]
  },
  {
   "cell_type": "code",
   "execution_count": null,
   "metadata": {},
   "outputs": [],
   "source": [
    "contador = 0\n",
    "while contador < 10:\n",
    "    print (contador)\n",
    "    contador += 1\n"
   ]
  },
  {
   "cell_type": "code",
   "execution_count": null,
   "metadata": {},
   "outputs": [],
   "source": [
    "print ('Hola')\n",
    "print ('Inserte un numero del 1 al 5')\n",
    "while True:\n",
    "    numero = int(input())\n",
    "    if numero==5:\n",
    "        break\n",
    "    \n",
    "\n",
    "    \n",
    "print ('Ha salido el numero 5')\n",
    "    \n",
    "\n"
   ]
  },
  {
   "cell_type": "markdown",
   "metadata": {},
   "source": [
    "#### <font color=green>Espacio para notas del estudiante</font>"
   ]
  },
  {
   "cell_type": "markdown",
   "metadata": {},
   "source": [
    "-\n",
    "\n",
    "-\n",
    "\n",
    "-"
   ]
  },
  {
   "cell_type": "markdown",
   "metadata": {},
   "source": [
    "## <font color=blue>Condicionales</font> "
   ]
  },
  {
   "cell_type": "markdown",
   "metadata": {},
   "source": [
    "                                                 "
   ]
  },
  {
   "cell_type": "markdown",
   "metadata": {},
   "source": [
    "### If & Else"
   ]
  },
  {
   "cell_type": "code",
   "execution_count": 3,
   "metadata": {},
   "outputs": [
    {
     "name": "stdout",
     "output_type": "stream",
     "text": [
      "La cantidad de unos es: 7y la cantidad de ceros es: 8\n"
     ]
    }
   ],
   "source": [
    "Lista_1_y_0=[0, 0, 1, 1, 0, 1, 0, 0, 0, 0, 1, 1, 1, 0, 1]\n",
    "unos = []\n",
    "ceros =[]\n",
    "for i in Lista_1_y_0:\n",
    "    if i ==1:\n",
    "        unos.append(i)\n",
    "    else:\n",
    "        ceros.append(i)\n",
    "        \n",
    "print('La cantidad de unos es: ' + str(len(unos)) + ' y la cantidad de ceros es: '+str(len(ceros)))\n",
    "    "
   ]
  },
  {
   "cell_type": "markdown",
   "metadata": {},
   "source": [
    "#### <font color=green>Espacio para notas del estudiante</font>"
   ]
  },
  {
   "cell_type": "markdown",
   "metadata": {},
   "source": [
    "-\n",
    "\n",
    "-\n",
    "\n",
    "-"
   ]
  },
  {
   "cell_type": "markdown",
   "metadata": {},
   "source": [
    "## <font color=blue>Ejemplo utilizando los conceptos anteriores:</font> "
   ]
  },
  {
   "cell_type": "code",
   "execution_count": null,
   "metadata": {},
   "outputs": [],
   "source": [
    "frutas = {'Fresa':'Rojo', 'Limon':'Verde', 'Papaya':'Naranja', 'Manzana':'Rojo', 'Mango':'Naranja', 'Pera':'Verde', 'Uva':'Morado'}\n",
    "print ('Las frutas disponibles son: \\n' + str(frutas.keys()))\n",
    "rojo = 0\n",
    "verde = 0\n",
    "naranja = 0\n",
    "morado = 0\n",
    "\n",
    "\n",
    "cantidad_colores = {'Color Rojo': '0', 'Color Verde':'0', 'Color Naranja':'0', 'Color Morado':'0'}\n",
    "\n",
    "for fruta in frutas.values():\n",
    "    if fruta == 'Verde':\n",
    "        verde = verde + 1\n",
    "    if fruta == 'Rojo':\n",
    "        rojo = rojo + 1\n",
    "    if fruta == 'Naranja':\n",
    "        naranja = naranja + 1\n",
    "    if fruta == 'Morado':\n",
    "        morado = morado + 1\n",
    "        \n",
    "cantidad_colores['Color Rojo'] = rojo\n",
    "cantidad_colores['Color Verde'] = verde\n",
    "cantidad_colores['Color Naranja'] = naranja\n",
    "cantidad_colores['Color Morado'] = morado\n",
    "    \n",
    "print ('Y la cantidad de cada color que hay es: \\n' + str(cantidad_colores))\n",
    "    \n",
    "    \n",
    "    "
   ]
  },
  {
   "cell_type": "markdown",
   "metadata": {},
   "source": [
    "#### <font color=green>Espacio para notas del estudiante</font>"
   ]
  },
  {
   "cell_type": "markdown",
   "metadata": {},
   "source": [
    "-\n",
    "\n",
    "-\n",
    "\n",
    "-"
   ]
  },
  {
   "cell_type": "markdown",
   "metadata": {},
   "source": [
    "# <h1><center><font color=red>¡A practicar!</font> </center></h1>"
   ]
  },
  {
   "cell_type": "markdown",
   "metadata": {},
   "source": [
    "¿Que deberían hacer los siguientes códigos?"
   ]
  },
  {
   "cell_type": "code",
   "execution_count": null,
   "metadata": {},
   "outputs": [],
   "source": [
    "numero = 0\n",
    "for i in range(5):\n",
    "    numero = numero + i\n",
    "\n",
    "    \n",
    "print (numero)\n",
    "\n",
    "     "
   ]
  },
  {
   "cell_type": "markdown",
   "metadata": {},
   "source": [
    "#### Comentario\n",
    "\n",
    "-"
   ]
  },
  {
   "cell_type": "code",
   "execution_count": null,
   "metadata": {},
   "outputs": [],
   "source": []
  },
  {
   "cell_type": "markdown",
   "metadata": {},
   "source": [
    "#### Comentario\n",
    "\n",
    "-"
   ]
  },
  {
   "cell_type": "markdown",
   "metadata": {},
   "source": [
    "Determine por qué los siguientes códigos no funcionarían:"
   ]
  },
  {
   "cell_type": "code",
   "execution_count": 7,
   "metadata": {},
   "outputs": [],
   "source": [
    "while False:\n",
    "    print ('Hola')"
   ]
  },
  {
   "cell_type": "markdown",
   "metadata": {},
   "source": [
    "    "
   ]
  },
  {
   "cell_type": "markdown",
   "metadata": {},
   "source": [
    "## <h1><center><font color=red>¡Reto!</font> </center></h1>\n",
    "\n",
    "<center><font color=red>(evaluación)</font> </center>"
   ]
  },
  {
   "cell_type": "markdown",
   "metadata": {},
   "source": [
    "Cree una lista que contenga 20 \"elementos\", estos elementos corresponderán a pelotas de dos colores diferentes. Una vez creada la lista haga un código que revise los elementos, cuente cuantos colores hay de cada pelota e imprima cuantos hay, utilice contadores.\n",
    "\n",
    "Esta es una evaluación, por lo tanto debe copiarse el código a algún tipo de archivo entregable para su revisión, de otro modo no se podrá calificar.\n",
    "\n",
    "Dirijase a la pestaña \"file\", \"download as\" y seleccione \"notebook\", envíe ese archivo a la profesora.\n",
    "\n",
    "Puede elaborar y verificar el ejercicio en el siguiente recuadro de código."
   ]
  },
  {
   "cell_type": "code",
   "execution_count": null,
   "metadata": {},
   "outputs": [],
   "source": []
  }
 ],
 "metadata": {
  "kernelspec": {
   "display_name": "Python 3",
   "language": "python",
   "name": "python3"
  },
  "language_info": {
   "codemirror_mode": {
    "name": "ipython",
    "version": 3
   },
   "file_extension": ".py",
   "mimetype": "text/x-python",
   "name": "python",
   "nbconvert_exporter": "python",
   "pygments_lexer": "ipython3",
   "version": "3.7.3"
  }
 },
 "nbformat": 4,
 "nbformat_minor": 2
}
