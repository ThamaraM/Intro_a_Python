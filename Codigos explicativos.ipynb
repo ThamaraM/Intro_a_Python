{
 "cells": [
  {
   "cell_type": "markdown",
   "metadata": {},
   "source": [
    "# Introducción a Python, cuaderno de notas"
   ]
  },
  {
   "cell_type": "markdown",
   "metadata": {},
   "source": [
    "Bienvenidos y bienvenidas,\n",
    "\n",
    "\n",
    "Este es el cuaderno de ejercicios donde podremos redactar notas respecto a cada código y prácticar con los ejercicos planteados por la profesora.\n",
    "\n",
    "Espero sea de mucha utilidad y facilite el acercamiento a las bases de este lenguaje de programación."
   ]
  },
  {
   "cell_type": "markdown",
   "metadata": {},
   "source": [
    "                                                                                                                       "
   ]
  },
  {
   "cell_type": "markdown",
   "metadata": {},
   "source": [
    "## Hola Mundo"
   ]
  },
  {
   "cell_type": "markdown",
   "metadata": {},
   "source": [
    "Así que, nuestro primer \"Hola Mundo\", en Python, se vería de la siguiente forma:"
   ]
  },
  {
   "cell_type": "code",
   "execution_count": 1,
   "metadata": {
    "scrolled": true
   },
   "outputs": [
    {
     "name": "stdout",
     "output_type": "stream",
     "text": [
      "Hola Mundo\n"
     ]
    }
   ],
   "source": [
    "print('Hola Mundo')"
   ]
  },
  {
   "cell_type": "markdown",
   "metadata": {},
   "source": [
    "## Variables"
   ]
  },
  {
   "cell_type": "markdown",
   "metadata": {},
   "source": [
    "Para el desarrollo de los ejercicios vamos a evaluar y desarrollar los ejercicios vistos a lo largo de la clase, empezando por variables.\n",
    "\n",
    "Como se mencionó, existen las variables tipo \"str\", \"int\" y \"float\""
   ]
  },
  {
   "cell_type": "markdown",
   "metadata": {},
   "source": [
    "Empezamos con \"str\":"
   ]
  },
  {
   "cell_type": "code",
   "execution_count": 5,
   "metadata": {},
   "outputs": [
    {
     "name": "stdout",
     "output_type": "stream",
     "text": [
      "primer variable\n",
      "segunda variable\n"
     ]
    }
   ],
   "source": [
    "Variable_str_1 = 'primer variable'\n",
    "Variable_str_2 = \"segunda variable\"\n",
    "\n",
    "#queremos comprobar nuestras variables\n",
    "print (Variable_str_1)\n",
    "print (Variable_str_2)"
   ]
  },
  {
   "cell_type": "markdown",
   "metadata": {},
   "source": [
    "Notemos que podemos escribir a lo largo del código comentarios los cuales ayuden a que otros programadores o nosotros mismos, entendamos las secciones que conforman un código y la funcionalidad de cada parte."
   ]
  },
  {
   "cell_type": "markdown",
   "metadata": {},
   "source": [
    "¿Qué pasa si queremos imprimir texto además de la información de nuestra variable?"
   ]
  },
  {
   "cell_type": "code",
   "execution_count": 6,
   "metadata": {},
   "outputs": [
    {
     "name": "stdout",
     "output_type": "stream",
     "text": [
      "La variable tipo str es: primer variable\n"
     ]
    }
   ],
   "source": [
    "print (\"La variable tipo str es: \" + Variable_str_1)"
   ]
  },
  {
   "cell_type": "markdown",
   "metadata": {},
   "source": [
    "Ahora, el tipo \"int\" o \"float\" se pueden ver a continuación:"
   ]
  },
  {
   "cell_type": "code",
   "execution_count": 9,
   "metadata": {},
   "outputs": [
    {
     "name": "stdout",
     "output_type": "stream",
     "text": [
      "1\n",
      "1.0\n"
     ]
    }
   ],
   "source": [
    "Variable_int_1= int(1)\n",
    "Variable_float_1=float(1.0)\n",
    "\n",
    "print (Variable_int_1)\n",
    "print (Variable_float_1)"
   ]
  },
  {
   "cell_type": "markdown",
   "metadata": {},
   "source": [
    "Para concatenar texto y números en un print, es necesario hacer \"cast\" de la variable numérica, como se observa a continuación:"
   ]
  },
  {
   "cell_type": "code",
   "execution_count": 14,
   "metadata": {},
   "outputs": [
    {
     "name": "stdout",
     "output_type": "stream",
     "text": [
      "El numero entero es: 1\n",
      "El numero en decimal es: 1.0\n"
     ]
    }
   ],
   "source": [
    "print ('El numero entero es: '+ str(Variable_int_1))\n",
    "print ('El numero en decimal es: '+str(Variable_float_1))"
   ]
  },
  {
   "cell_type": "markdown",
   "metadata": {},
   "source": [
    "### Espacio para notas de estudiante"
   ]
  },
  {
   "cell_type": "markdown",
   "metadata": {},
   "source": [
    "-\n",
    "\n",
    "\n",
    "-\n",
    "\n",
    "\n",
    "-"
   ]
  }
 ],
 "metadata": {
  "kernelspec": {
   "display_name": "Python 3",
   "language": "python",
   "name": "python3"
  },
  "language_info": {
   "codemirror_mode": {
    "name": "ipython",
    "version": 3
   },
   "file_extension": ".py",
   "mimetype": "text/x-python",
   "name": "python",
   "nbconvert_exporter": "python",
   "pygments_lexer": "ipython3",
   "version": "3.7.3"
  }
 },
 "nbformat": 4,
 "nbformat_minor": 2
}
